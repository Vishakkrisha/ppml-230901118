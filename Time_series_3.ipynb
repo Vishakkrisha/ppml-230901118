{
  "nbformat": 4,
  "nbformat_minor": 0,
  "metadata": {
    "colab": {
      "provenance": [],
      "authorship_tag": "ABX9TyO+7cRPUpXyYAEvVkkeNWWo",
      "include_colab_link": true
    },
    "kernelspec": {
      "name": "python3",
      "display_name": "Python 3"
    },
    "language_info": {
      "name": "python"
    }
  },
  "cells": [
    {
      "cell_type": "markdown",
      "metadata": {
        "id": "view-in-github",
        "colab_type": "text"
      },
      "source": [
        "<a href=\"https://colab.research.google.com/github/Vishakkrisha/ppml-230901118/blob/main/Time_series_3.ipynb\" target=\"_parent\"><img src=\"https://colab.research.google.com/assets/colab-badge.svg\" alt=\"Open In Colab\"/></a>"
      ]
    },
    {
      "cell_type": "markdown",
      "source": [
        "Aim:\n",
        "\n",
        "To implement and check Time series functions in python\n",
        "\n",
        "Description:\n",
        "\n",
        "1. Implement different date time function through DataFrame."
      ],
      "metadata": {
        "id": "c3ZiM1GR4Agu"
      }
    },
    {
      "cell_type": "code",
      "execution_count": 1,
      "metadata": {
        "colab": {
          "base_uri": "https://localhost:8080/"
        },
        "id": "WB8dxncb3Kj9",
        "outputId": "0eabe20d-741b-4bc5-86ff-dc3d97543563"
      },
      "outputs": [
        {
          "output_type": "stream",
          "name": "stdout",
          "text": [
            "Date Index \n",
            " 2011-01-02    0.301511\n",
            "2011-01-05    0.335348\n",
            "2011-01-07   -0.096858\n",
            "2011-01-08    0.122397\n",
            "2011-01-10    0.240608\n",
            "2011-01-12   -1.319915\n",
            "dtype: float64\n"
          ]
        }
      ],
      "source": [
        "import pandas as pd\n",
        "import numpy as np\n",
        "from datetime import datetime\n",
        "dates = [datetime(2011, 1, 2),\n",
        "datetime(2011, 1, 5),\n",
        "datetime(2011, 1, 7),\n",
        "datetime(2011, 1, 8),\n",
        "datetime(2011, 1, 10),\n",
        "datetime(2011, 1, 12)]\n",
        "ts = pd.Series(np.random.randn(6), index=dates)\n",
        "print(\"Date Index \\n\",ts)"
      ]
    },
    {
      "cell_type": "code",
      "source": [
        "print(\"\\nDate Index alone from the series: \\n\",ts.index)"
      ],
      "metadata": {
        "colab": {
          "base_uri": "https://localhost:8080/"
        },
        "id": "6bn7AfzW4phN",
        "outputId": "f27376b0-7fd7-4b75-d3af-75191d2a4275"
      },
      "execution_count": 2,
      "outputs": [
        {
          "output_type": "stream",
          "name": "stdout",
          "text": [
            "\n",
            "Date Index alone from the series: \n",
            " DatetimeIndex(['2011-01-02', '2011-01-05', '2011-01-07', '2011-01-08',\n",
            "               '2011-01-10', '2011-01-12'],\n",
            "              dtype='datetime64[ns]', freq=None)\n"
          ]
        }
      ]
    },
    {
      "cell_type": "code",
      "source": [
        "stamp=ts.index[2]\n",
        "print(\"\\nSecond Index:\\n\",stamp)"
      ],
      "metadata": {
        "colab": {
          "base_uri": "https://localhost:8080/"
        },
        "id": "csdm8kBV42hK",
        "outputId": "7608ede0-f622-4243-91fe-b63629ca698c"
      },
      "execution_count": 3,
      "outputs": [
        {
          "output_type": "stream",
          "name": "stdout",
          "text": [
            "\n",
            "Second Index:\n",
            " 2011-01-07 00:00:00\n"
          ]
        }
      ]
    },
    {
      "cell_type": "code",
      "source": [
        "longer_ts=pd.Series(np.random.randn(1000),\n",
        "index=pd.date_range(\"2000-01-01\",periods=1000))\n",
        "print(\"\\nDaterange up to 1000 days:\\n\",longer_ts)"
      ],
      "metadata": {
        "colab": {
          "base_uri": "https://localhost:8080/"
        },
        "id": "cLxpsoQq5MCX",
        "outputId": "ab9d9e6b-7303-43c9-966d-7c6b1a71bf18"
      },
      "execution_count": 4,
      "outputs": [
        {
          "output_type": "stream",
          "name": "stdout",
          "text": [
            "\n",
            "Daterange up to 1000 days:\n",
            " 2000-01-01    1.059319\n",
            "2000-01-02   -0.462518\n",
            "2000-01-03    1.906782\n",
            "2000-01-04    0.203718\n",
            "2000-01-05    2.499682\n",
            "                ...   \n",
            "2002-09-22    0.556696\n",
            "2002-09-23    1.426819\n",
            "2002-09-24   -1.411572\n",
            "2002-09-25    0.472320\n",
            "2002-09-26   -1.754969\n",
            "Freq: D, Length: 1000, dtype: float64\n"
          ]
        }
      ]
    },
    {
      "cell_type": "code",
      "source": [
        "print(\"\\nDate range-2001 year:\\n\", longer_ts[\"2001\"])"
      ],
      "metadata": {
        "colab": {
          "base_uri": "https://localhost:8080/"
        },
        "id": "71myCWpA5l3b",
        "outputId": "68ffbbce-be83-44c5-c6a0-611942cfe625"
      },
      "execution_count": 5,
      "outputs": [
        {
          "output_type": "stream",
          "name": "stdout",
          "text": [
            "\n",
            "Date range-2001 year:\n",
            " 2001-01-01   -2.589922\n",
            "2001-01-02    0.488855\n",
            "2001-01-03   -0.524149\n",
            "2001-01-04   -2.130788\n",
            "2001-01-05   -0.222009\n",
            "                ...   \n",
            "2001-12-27   -0.636892\n",
            "2001-12-28   -0.802377\n",
            "2001-12-29    0.493819\n",
            "2001-12-30   -0.105034\n",
            "2001-12-31    0.110323\n",
            "Freq: D, Length: 365, dtype: float64\n"
          ]
        }
      ]
    },
    {
      "cell_type": "code",
      "source": [
        "print(\"\\nDate range-05 month 2001 year:\\n\", longer_ts[\"2001-05\"])"
      ],
      "metadata": {
        "colab": {
          "base_uri": "https://localhost:8080/"
        },
        "id": "PHU1jfGQ6Lxp",
        "outputId": "1aff79b9-c7bb-44bf-a009-1ddd242ef6e5"
      },
      "execution_count": 6,
      "outputs": [
        {
          "output_type": "stream",
          "name": "stdout",
          "text": [
            "\n",
            "Date range-05 month 2001 year:\n",
            " 2001-05-01   -1.345455\n",
            "2001-05-02   -1.536874\n",
            "2001-05-03   -0.386728\n",
            "2001-05-04   -0.391404\n",
            "2001-05-05    0.042634\n",
            "2001-05-06   -0.317267\n",
            "2001-05-07   -1.453281\n",
            "2001-05-08   -0.907362\n",
            "2001-05-09   -1.137776\n",
            "2001-05-10    0.173906\n",
            "2001-05-11    0.208226\n",
            "2001-05-12    0.272427\n",
            "2001-05-13    0.408575\n",
            "2001-05-14    2.497112\n",
            "2001-05-15    0.671332\n",
            "2001-05-16   -0.277401\n",
            "2001-05-17   -0.689821\n",
            "2001-05-18   -0.113208\n",
            "2001-05-19   -1.902391\n",
            "2001-05-20    1.018746\n",
            "2001-05-21   -1.121390\n",
            "2001-05-22   -0.462642\n",
            "2001-05-23   -1.157239\n",
            "2001-05-24    1.394816\n",
            "2001-05-25   -0.888804\n",
            "2001-05-26   -0.257447\n",
            "2001-05-27   -0.152258\n",
            "2001-05-28   -1.042619\n",
            "2001-05-29    0.324094\n",
            "2001-05-30   -1.712212\n",
            "2001-05-31    0.030547\n",
            "Freq: D, dtype: float64\n"
          ]
        }
      ]
    },
    {
      "cell_type": "code",
      "source": [
        "print(\"\\nDate range-first few dates in 2000 year:\\n\",longer_ts[\"2000\"].head())"
      ],
      "metadata": {
        "colab": {
          "base_uri": "https://localhost:8080/"
        },
        "id": "Kno427kE6XpB",
        "outputId": "06487030-9bb8-49d7-a253-d3a3de70aae7"
      },
      "execution_count": 7,
      "outputs": [
        {
          "output_type": "stream",
          "name": "stdout",
          "text": [
            "\n",
            "Date range-first few dates in 2000 year:\n",
            " 2000-01-01    1.059319\n",
            "2000-01-02   -0.462518\n",
            "2000-01-03    1.906782\n",
            "2000-01-04    0.203718\n",
            "2000-01-05    2.499682\n",
            "Freq: D, dtype: float64\n"
          ]
        }
      ]
    },
    {
      "cell_type": "code",
      "source": [
        "print(\"\\nDate range-first 15 dates in 02 month 2001 year:\\n\",longer_ts[\"2000-02\"].head(15))"
      ],
      "metadata": {
        "colab": {
          "base_uri": "https://localhost:8080/"
        },
        "id": "6e419sZN6qS8",
        "outputId": "3bed63fd-93ce-469b-f1e4-c2c008560222"
      },
      "execution_count": 8,
      "outputs": [
        {
          "output_type": "stream",
          "name": "stdout",
          "text": [
            "\n",
            "Date range-first 15 dates in 02 month 2001 year:\n",
            " 2000-02-01    0.642823\n",
            "2000-02-02   -0.147027\n",
            "2000-02-03   -0.712055\n",
            "2000-02-04    0.477827\n",
            "2000-02-05    0.378818\n",
            "2000-02-06   -0.289568\n",
            "2000-02-07    0.853632\n",
            "2000-02-08   -0.521114\n",
            "2000-02-09    1.374683\n",
            "2000-02-10    0.333022\n",
            "2000-02-11   -0.138941\n",
            "2000-02-12   -0.828383\n",
            "2000-02-13   -0.246301\n",
            "2000-02-14    0.799293\n",
            "2000-02-15    0.102435\n",
            "Freq: D, dtype: float64\n"
          ]
        }
      ]
    },
    {
      "cell_type": "code",
      "source": [
        "print(\"\\nDate range-rom 26-9-2001:\\n\",longer_ts[datetime(2000,9,26):])"
      ],
      "metadata": {
        "colab": {
          "base_uri": "https://localhost:8080/"
        },
        "id": "I_m6MQm963UI",
        "outputId": "748354ac-3fe4-4145-c1a8-a73d1c41cd1c"
      },
      "execution_count": 9,
      "outputs": [
        {
          "output_type": "stream",
          "name": "stdout",
          "text": [
            "\n",
            "Date range-rom 26-9-2001:\n",
            " 2000-09-26   -0.299217\n",
            "2000-09-27    0.641484\n",
            "2000-09-28    0.371541\n",
            "2000-09-29   -0.166826\n",
            "2000-09-30   -1.634048\n",
            "                ...   \n",
            "2002-09-22    0.556696\n",
            "2002-09-23    1.426819\n",
            "2002-09-24   -1.411572\n",
            "2002-09-25    0.472320\n",
            "2002-09-26   -1.754969\n",
            "Freq: D, Length: 731, dtype: float64\n"
          ]
        }
      ]
    },
    {
      "cell_type": "code",
      "source": [
        "print(\"\\nDate range from 26-9-2001 to 25-9-2002:\\n\",longer_ts[datetime(2001,9,26):datetime(2002,9,25)])"
      ],
      "metadata": {
        "colab": {
          "base_uri": "https://localhost:8080/"
        },
        "id": "bHxy-6Q_7B4l",
        "outputId": "5bd2b131-da22-4fe1-f359-39b39716bef2"
      },
      "execution_count": 10,
      "outputs": [
        {
          "output_type": "stream",
          "name": "stdout",
          "text": [
            "\n",
            "Date range from 26-9-2001 to 25-9-2002:\n",
            " 2001-09-26   -0.539201\n",
            "2001-09-27    0.408217\n",
            "2001-09-28   -0.787421\n",
            "2001-09-29    1.466557\n",
            "2001-09-30   -0.701402\n",
            "                ...   \n",
            "2002-09-21    0.229287\n",
            "2002-09-22    0.556696\n",
            "2002-09-23    1.426819\n",
            "2002-09-24   -1.411572\n",
            "2002-09-25    0.472320\n",
            "Freq: D, Length: 365, dtype: float64\n"
          ]
        }
      ]
    }
  ]
}