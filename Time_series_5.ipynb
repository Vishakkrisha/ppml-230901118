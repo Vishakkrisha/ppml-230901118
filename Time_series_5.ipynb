{
  "nbformat": 4,
  "nbformat_minor": 0,
  "metadata": {
    "colab": {
      "provenance": [],
      "authorship_tag": "ABX9TyMHOVPMePNlHUuFVhEbYTG7",
      "include_colab_link": true
    },
    "kernelspec": {
      "name": "python3",
      "display_name": "Python 3"
    },
    "language_info": {
      "name": "python"
    }
  },
  "cells": [
    {
      "cell_type": "markdown",
      "metadata": {
        "id": "view-in-github",
        "colab_type": "text"
      },
      "source": [
        "<a href=\"https://colab.research.google.com/github/Vishakkrisha/ppml-230901118/blob/main/Time_series_5.ipynb\" target=\"_parent\"><img src=\"https://colab.research.google.com/assets/colab-badge.svg\" alt=\"Open In Colab\"/></a>"
      ]
    },
    {
      "cell_type": "markdown",
      "source": [
        "Aim:\n",
        "\n",
        "To implement and check Time series functions in python\n",
        "\n",
        "Description:\n",
        "1. Through datetime index, perform truncate, duplicates and repeated date colums"
      ],
      "metadata": {
        "id": "Td4yhL2Z-ssh"
      }
    },
    {
      "cell_type": "code",
      "execution_count": 1,
      "metadata": {
        "colab": {
          "base_uri": "https://localhost:8080/"
        },
        "id": "t3HUAj10-raw",
        "outputId": "3c967b15-0504-479a-beab-6a4900b90397"
      },
      "outputs": [
        {
          "output_type": "stream",
          "name": "stdout",
          "text": [
            "\n",
            "With this date object, create a series with datetime index:\n",
            " 2020-01-05    0.520693\n",
            "2020-01-10    0.662691\n",
            "2020-01-15    1.958955\n",
            "2020-01-20    1.619224\n",
            "2020-01-25   -1.407020\n",
            "dtype: float64\n"
          ]
        }
      ],
      "source": [
        "import pandas as pd\n",
        "import numpy as np\n",
        "from datetime import datetime\n",
        "dates = [datetime(2020,1,5),\n",
        "datetime(2020,1,10),\n",
        "datetime(2020,1,15),\n",
        "datetime(2020,1,20),\n",
        "datetime(2020,1,25)]\n",
        "ts = pd.Series(np.random.randn(5), index=dates)\n",
        "print(\"\\nWith this date object, create a series with datetime index:\\n\",ts)"
      ]
    },
    {
      "cell_type": "code",
      "source": [
        "res=ts.truncate(after=\"1/15/2020\")\n",
        "print(\"\\nTruncate method to truncate datetime series \\n\", res)"
      ],
      "metadata": {
        "colab": {
          "base_uri": "https://localhost:8080/"
        },
        "id": "ZDVlaLLu_LRU",
        "outputId": "518ecf5d-5863-436a-e81a-2ee24a87c880"
      },
      "execution_count": 2,
      "outputs": [
        {
          "output_type": "stream",
          "name": "stdout",
          "text": [
            "\n",
            "Truncate method to truncate datetime series \n",
            " 2020-01-05    0.520693\n",
            "2020-01-10    0.662691\n",
            "2020-01-15    1.958955\n",
            "dtype: float64\n"
          ]
        }
      ]
    },
    {
      "cell_type": "code",
      "source": [
        "da=pd.date_range(\"10/1/2022\", periods=10, freq=\"W-SUN\")\n",
        "print(\"\\nDate range with day periods.\\n\",da)"
      ],
      "metadata": {
        "colab": {
          "base_uri": "https://localhost:8080/"
        },
        "id": "QM3gT8QE_qf6",
        "outputId": "f7fd4aa4-bd66-4e37-a637-bc3b27024740"
      },
      "execution_count": 4,
      "outputs": [
        {
          "output_type": "stream",
          "name": "stdout",
          "text": [
            "\n",
            "Date range with day periods.\n",
            " DatetimeIndex(['2022-10-02', '2022-10-09', '2022-10-16', '2022-10-23',\n",
            "               '2022-10-30', '2022-11-06', '2022-11-13', '2022-11-20',\n",
            "               '2022-11-27', '2022-12-04'],\n",
            "              dtype='datetime64[ns]', freq='W-SUN')\n"
          ]
        }
      ]
    },
    {
      "cell_type": "code",
      "source": [
        "date=pd.DatetimeIndex([\"1/1/2020\",\"1/2/2020\",\"1/2/2020\",\"1/2/2020\",\"1/3/2020\"])\n",
        "ts1=pd.Series(np.arange(5), index=date)\n",
        "print(\"\\nDuplicate datetime index:\\n\",ts1)"
      ],
      "metadata": {
        "colab": {
          "base_uri": "https://localhost:8080/"
        },
        "id": "6qwoRRFD_3Oh",
        "outputId": "d94650ed-7d74-4820-bbd3-0ba8657c22fc"
      },
      "execution_count": 6,
      "outputs": [
        {
          "output_type": "stream",
          "name": "stdout",
          "text": [
            "\n",
            "Duplicate datetime index:\n",
            " 2020-01-01    0\n",
            "2020-01-02    1\n",
            "2020-01-02    2\n",
            "2020-01-02    3\n",
            "2020-01-03    4\n",
            "dtype: int64\n"
          ]
        }
      ]
    },
    {
      "cell_type": "code",
      "source": [
        "group=ts1.groupby(level=0)\n",
        "print(\"\\nRepeated date counts:\\n\",group.count())"
      ],
      "metadata": {
        "colab": {
          "base_uri": "https://localhost:8080/"
        },
        "id": "SFiG9MX6ANYi",
        "outputId": "5cc4ab88-efc7-4f5f-f10b-e541bae3f916"
      },
      "execution_count": 7,
      "outputs": [
        {
          "output_type": "stream",
          "name": "stdout",
          "text": [
            "\n",
            "Repeated date counts:\n",
            " 2020-01-01    1\n",
            "2020-01-02    3\n",
            "2020-01-03    1\n",
            "dtype: int64\n"
          ]
        }
      ]
    },
    {
      "cell_type": "code",
      "source": [
        "long_df=pd.DataFrame(np.random.randn(10,4),index=da,columns=list(\"ABCD\"))\n",
        "print(\"\\nMulti-column DataFrame with datatime index:\\n\",long_df)"
      ],
      "metadata": {
        "colab": {
          "base_uri": "https://localhost:8080/"
        },
        "id": "x7q43-DYAWb6",
        "outputId": "e4b818d8-564e-455a-bf1a-2b86409f3ee3"
      },
      "execution_count": 8,
      "outputs": [
        {
          "output_type": "stream",
          "name": "stdout",
          "text": [
            "\n",
            "Multi-column DataFrame with datatime index:\n",
            "                    A         B         C         D\n",
            "2022-10-02  0.824501 -0.546685 -0.024246 -0.027253\n",
            "2022-10-09 -1.542297  1.933745  1.314853 -1.492086\n",
            "2022-10-16  1.142250  0.645785  1.789585  0.281592\n",
            "2022-10-23  0.017967 -0.709045 -0.011703 -0.204506\n",
            "2022-10-30  1.848146  1.071679  0.998655  0.350845\n",
            "2022-11-06 -0.180237 -1.300818 -1.297025 -0.821608\n",
            "2022-11-13  0.375559  0.790969  0.653754  0.293820\n",
            "2022-11-20  2.194794  0.979516  0.609058  1.004517\n",
            "2022-11-27 -0.806077 -1.232249 -2.240994 -0.901827\n",
            "2022-12-04  0.195854  0.949560  2.679136 -1.545342\n"
          ]
        }
      ]
    }
  ]
}