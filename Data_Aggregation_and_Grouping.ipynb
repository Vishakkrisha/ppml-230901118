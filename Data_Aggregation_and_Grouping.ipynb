{
  "nbformat": 4,
  "nbformat_minor": 0,
  "metadata": {
    "colab": {
      "provenance": [],
      "authorship_tag": "ABX9TyMxtJ0j0vtUvtzjnqNCHzYn",
      "include_colab_link": true
    },
    "kernelspec": {
      "name": "python3",
      "display_name": "Python 3"
    },
    "language_info": {
      "name": "python"
    }
  },
  "cells": [
    {
      "cell_type": "markdown",
      "metadata": {
        "id": "view-in-github",
        "colab_type": "text"
      },
      "source": [
        "<a href=\"https://colab.research.google.com/github/Vishakkrisha/ppml-230901118/blob/main/Data_Aggregation_and_Grouping.ipynb\" target=\"_parent\"><img src=\"https://colab.research.google.com/assets/colab-badge.svg\" alt=\"Open In Colab\"/></a>"
      ]
    },
    {
      "cell_type": "code",
      "execution_count": 6,
      "metadata": {
        "colab": {
          "base_uri": "https://localhost:8080/"
        },
        "id": "isEMStlA2B2E",
        "outputId": "9cef98d5-d7a3-45ed-c9ab-1b72ca317584"
      },
      "outputs": [
        {
          "output_type": "stream",
          "name": "stdout",
          "text": [
            "\n",
            " Original DataFrame: \n",
            "     Name Category  Value  Score\n",
            "0  Alice        A      4     96\n",
            "1    Raj        F      3     95\n",
            "2    Raj        U      3     98\n",
            "3  Subbu        A      4     78\n",
            "4   Hari        A      1     74\n",
            "5    Raj        F      3     60\n",
            "\n",
            " Group and aggregate with one column: \n",
            "     Name  Value\n",
            "0  Alice      4\n",
            "1   Hari      1\n",
            "2    Raj      9\n",
            "3  Subbu      4\n"
          ]
        }
      ],
      "source": [
        "import numpy as np\n",
        "import pandas as pd\n",
        "df=pd.DataFrame({'Name':['Alice','Raj','Raj','Subbu','Hari','Raj'],'Category':['A','F','U','A','A','F'],'Value':np.random.randint(1,5,size=6),'Score':np.random.randint(60,100,size=6)})\n",
        "print(\"\\n Original DataFrame: \\n\",df)\n",
        "df1=df.groupby(('Name'),as_index=False)['Value'].sum()\n",
        "print(\"\\n Group and aggregate with one column: \\n\",df1)"
      ]
    },
    {
      "cell_type": "code",
      "source": [
        "df2=df.groupby(('Name'),as_index=False)[['Value','Score']].sum()\n",
        "print(\"\\n Group and aggregate with two column sum: \\n\",df2)"
      ],
      "metadata": {
        "colab": {
          "base_uri": "https://localhost:8080/"
        },
        "id": "I-hEEDpX5HU0",
        "outputId": "ffeae63f-7aaf-4616-d40d-983e343dc9b3"
      },
      "execution_count": 7,
      "outputs": [
        {
          "output_type": "stream",
          "name": "stdout",
          "text": [
            "\n",
            " Group and aggregate with two column sum: \n",
            "     Name  Value  Score\n",
            "0  Alice      4     96\n",
            "1   Hari      1     74\n",
            "2    Raj      9    253\n",
            "3  Subbu      4     78\n"
          ]
        }
      ]
    },
    {
      "cell_type": "code",
      "source": [
        "df3=df.groupby(('Name'),as_index=False)['Value'].agg('sum')\n",
        "print(\"\\n Group and aggregate with one column sum: \\n\",df3)"
      ],
      "metadata": {
        "colab": {
          "base_uri": "https://localhost:8080/"
        },
        "id": "RuS7UNqY7En-",
        "outputId": "1339921d-90aa-43df-fb12-244b07317d97"
      },
      "execution_count": 9,
      "outputs": [
        {
          "output_type": "stream",
          "name": "stdout",
          "text": [
            "\n",
            " Group and aggregate with one column sum: \n",
            "     Name  Value\n",
            "0  Alice      4\n",
            "1   Hari      1\n",
            "2    Raj      9\n",
            "3  Subbu      4\n"
          ]
        }
      ]
    },
    {
      "cell_type": "code",
      "source": [
        "df4=df.groupby('Name').agg({'Value':['sum','mean','min','max']})\n",
        "print(\"\\n Group by name and multiple aggregation: \\n\",df4)"
      ],
      "metadata": {
        "colab": {
          "base_uri": "https://localhost:8080/"
        },
        "id": "7Ov7sFfb8SR9",
        "outputId": "e98e8961-31a8-4979-e105-93ec055b317b"
      },
      "execution_count": 10,
      "outputs": [
        {
          "output_type": "stream",
          "name": "stdout",
          "text": [
            "\n",
            " Group by name and multiple aggregation: \n",
            "       Value             \n",
            "        sum mean min max\n",
            "Name                    \n",
            "Alice     4  4.0   4   4\n",
            "Hari      1  1.0   1   1\n",
            "Raj       9  3.0   3   3\n",
            "Subbu     4  4.0   4   4\n"
          ]
        }
      ]
    },
    {
      "cell_type": "code",
      "source": [
        "df5=df.groupby(('Name'),as_index=False)['Value'].count()\n",
        "print(\"\\n Group and count: \\n\",df5)"
      ],
      "metadata": {
        "colab": {
          "base_uri": "https://localhost:8080/"
        },
        "id": "szCZOExJ9G7Q",
        "outputId": "17ee4cb2-c7d6-414a-9cde-88ef8cc318fb"
      },
      "execution_count": 12,
      "outputs": [
        {
          "output_type": "stream",
          "name": "stdout",
          "text": [
            "\n",
            " Group and count: \n",
            "     Name  Value\n",
            "0  Alice      1\n",
            "1   Hari      1\n",
            "2    Raj      3\n",
            "3  Subbu      1\n"
          ]
        }
      ]
    },
    {
      "cell_type": "code",
      "source": [
        "df6=df.groupby(('Name')).count()\n",
        "print(\"\\n Group and count: \\n\",df6)"
      ],
      "metadata": {
        "colab": {
          "base_uri": "https://localhost:8080/"
        },
        "id": "DB2LafjPADV1",
        "outputId": "15bea119-9c8a-48cb-ede5-3a4663772fdd"
      },
      "execution_count": 13,
      "outputs": [
        {
          "output_type": "stream",
          "name": "stdout",
          "text": [
            "\n",
            " Group and count: \n",
            "        Category  Value  Score\n",
            "Name                         \n",
            "Alice         1      1      1\n",
            "Hari          1      1      1\n",
            "Raj           3      3      3\n",
            "Subbu         1      1      1\n"
          ]
        }
      ]
    },
    {
      "cell_type": "code",
      "source": [
        "df7=df.groupby(('Name'),as_index=False)['Value'].first()\n",
        "print(\"\\n Group and display from first: \\n\",df7)\n",
        "df8=df.groupby(('Name')).first()\n",
        "print(\"\\n Group and display from first: \\n\",df8)"
      ],
      "metadata": {
        "colab": {
          "base_uri": "https://localhost:8080/"
        },
        "id": "q6_qEKkSBfrp",
        "outputId": "8120e829-740e-49a0-9369-ed105770f66c"
      },
      "execution_count": 14,
      "outputs": [
        {
          "output_type": "stream",
          "name": "stdout",
          "text": [
            "\n",
            " Group and display from first: \n",
            "     Name  Value\n",
            "0  Alice      4\n",
            "1   Hari      1\n",
            "2    Raj      3\n",
            "3  Subbu      4\n",
            "\n",
            " Group and display from first: \n",
            "       Category  Value  Score\n",
            "Name                        \n",
            "Alice        A      4     96\n",
            "Hari         A      1     74\n",
            "Raj          F      3     95\n",
            "Subbu        A      4     78\n"
          ]
        }
      ]
    },
    {
      "cell_type": "code",
      "source": [
        "df9=df.groupby(('Name'),as_index=False)['Value'].last()\n",
        "print(\"\\n Group and display from last: \\n\",df9)\n",
        "df10=df.groupby(('Name')).last()\n",
        "print(\"\\n Group and display from last: \\n\",df10)"
      ],
      "metadata": {
        "colab": {
          "base_uri": "https://localhost:8080/"
        },
        "id": "5TP6xrTMCuFB",
        "outputId": "5aaf588e-a607-4056-c0dc-f6367eb5d0f2"
      },
      "execution_count": 15,
      "outputs": [
        {
          "output_type": "stream",
          "name": "stdout",
          "text": [
            "\n",
            " Group and display from last: \n",
            "     Name  Value\n",
            "0  Alice      4\n",
            "1   Hari      1\n",
            "2    Raj      3\n",
            "3  Subbu      4\n",
            "\n",
            " Group and display from last: \n",
            "       Category  Value  Score\n",
            "Name                        \n",
            "Alice        A      4     96\n",
            "Hari         A      1     74\n",
            "Raj          F      3     60\n",
            "Subbu        A      4     78\n"
          ]
        }
      ]
    },
    {
      "cell_type": "code",
      "source": [
        "df11=df.groupby(('Name'),as_index=False)['Value'].size()\n",
        "print(\"\\n Group and display from size: \\n\",df11)\n",
        "df12=df.groupby(('Name')).size()\n",
        "print(\"\\n Group and display from size: \\n\",df12)"
      ],
      "metadata": {
        "colab": {
          "base_uri": "https://localhost:8080/"
        },
        "id": "-VF1Pp3CDBTP",
        "outputId": "b2889374-662b-4a6e-dd40-1e2f09408104"
      },
      "execution_count": 17,
      "outputs": [
        {
          "output_type": "stream",
          "name": "stdout",
          "text": [
            "\n",
            " Group and display from size: \n",
            "     Name  size\n",
            "0  Alice     1\n",
            "1   Hari     1\n",
            "2    Raj     3\n",
            "3  Subbu     1\n",
            "\n",
            " Group and display from size: \n",
            " Name\n",
            "Alice    1\n",
            "Hari     1\n",
            "Raj      3\n",
            "Subbu    1\n",
            "dtype: int64\n"
          ]
        }
      ]
    }
  ]
}