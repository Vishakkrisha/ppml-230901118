{
 "cells": [
  {
   "cell_type": "code",
   "execution_count": 1,
   "id": "57f91af8",
   "metadata": {},
   "outputs": [
    {
     "name": "stdout",
     "output_type": "stream",
     "text": [
      "Empty DataFrame\n",
      "Columns: []\n",
      "Index: []\n"
     ]
    }
   ],
   "source": [
    "import pandas as pd\n",
    "df=pd.DataFrame()\n",
    "print(df)"
   ]
  },
  {
   "cell_type": "code",
   "execution_count": 2,
   "id": "f3887a86",
   "metadata": {},
   "outputs": [
    {
     "name": "stdout",
     "output_type": "stream",
     "text": [
      "\n",
      " Series to Data Frame \n",
      "\n",
      "         Emp  ID\n",
      "0    Dharsan  80\n",
      "1     Sudeep  90\n",
      "2       Siva  28\n",
      "3       Yash  57\n",
      "4  Keerthana  49\n"
     ]
    }
   ],
   "source": [
    "emp=pd.Series(['Dharsan','Sudeep','Siva','Yash','Keerthana'])\n",
    "id=pd.Series([80,90,28,57,49])\n",
    "frame={'Emp':emp,'ID':id}\n",
    "res=pd.DataFrame(frame)\n",
    "print(\"\\n Series to Data Frame \\n\")\n",
    "print(res)"
   ]
  },
  {
   "cell_type": "code",
   "execution_count": 3,
   "id": "19df168a",
   "metadata": {},
   "outputs": [
    {
     "name": "stdout",
     "output_type": "stream",
     "text": [
      "\n",
      " Extracting one column \n",
      "\n",
      "0      Dharsan\n",
      "1       Sudeep\n",
      "2         Siva\n",
      "3         Yash\n",
      "4    Keerthana\n",
      "Name: Emp, dtype: object\n"
     ]
    }
   ],
   "source": [
    "print(\"\\n Extracting one column \\n\")\n",
    "print(res['Emp'])"
   ]
  },
  {
   "cell_type": "code",
   "execution_count": 4,
   "id": "44e0d224",
   "metadata": {},
   "outputs": [
    {
     "name": "stdout",
     "output_type": "stream",
     "text": [
      "\n",
      " Adding new column \n",
      "\n",
      "         Emp  ID  Age\n",
      "0    Dharsan  80   19\n",
      "1     Sudeep  90   90\n",
      "2       Siva  28   34\n",
      "3       Yash  56   67\n",
      "4  Keerthana  89   20\n"
     ]
    }
   ],
   "source": [
    "print(\"\\n Adding new column \\n\")\n",
    "res['ID']=pd.Series([80,90,28,56,89])\n",
    "res['Age']=pd.Series([19,90,34,67,20])\n",
    "print(res)"
   ]
  },
  {
   "cell_type": "code",
   "execution_count": 5,
   "id": "ed92ded2",
   "metadata": {},
   "outputs": [
    {
     "name": "stdout",
     "output_type": "stream",
     "text": [
      "\n",
      " Deleting new column\n",
      "         Emp  ID\n",
      "0    Dharsan  80\n",
      "1     Sudeep  90\n",
      "2       Siva  28\n",
      "3       Yash  56\n",
      "4  Keerthana  89\n"
     ]
    }
   ],
   "source": [
    "print(\"\\n Deleting new column\")\n",
    "del res['Age']\n",
    "print(res)"
   ]
  },
  {
   "cell_type": "code",
   "execution_count": 6,
   "id": "5f557204",
   "metadata": {},
   "outputs": [
    {
     "name": "stdout",
     "output_type": "stream",
     "text": [
      "\n",
      " Extracting the second row \n",
      "\n",
      "Emp    Sudeep\n",
      "ID         90\n",
      "Name: 1, dtype: object\n"
     ]
    }
   ],
   "source": [
    "print(\"\\n Extracting the second row \\n\")\n",
    "print(res.loc[1])"
   ]
  },
  {
   "cell_type": "code",
   "execution_count": 7,
   "id": "50fedfc2",
   "metadata": {},
   "outputs": [
    {
     "name": "stdout",
     "output_type": "stream",
     "text": [
      "Slice Rows\n",
      "       Emp  ID\n",
      "1  Sudeep  90\n",
      "2    Siva  28\n",
      "3    Yash  56\n"
     ]
    }
   ],
   "source": [
    "print(\"Slice Rows\\n\",res[1:4])"
   ]
  },
  {
   "cell_type": "code",
   "execution_count": 8,
   "id": "992b15d5",
   "metadata": {},
   "outputs": [
    {
     "name": "stdout",
     "output_type": "stream",
     "text": [
      "\n",
      " Adding new raw values \n",
      "          Emp   ID\n",
      "0    Dharsan   80\n",
      "1     Sudeep   90\n",
      "2       Siva   28\n",
      "3       Yash   56\n",
      "4  Keerthana   89\n",
      "0      Vicky  100\n",
      "1     Rashid  111\n"
     ]
    }
   ],
   "source": [
    "d2=pd.DataFrame([['Vicky',100],['Rashid',111]],columns=['Emp','ID'])\n",
    "print(\"\\n Adding new raw values \\n\",pd.concat([res,d2]))"
   ]
  },
  {
   "cell_type": "code",
   "execution_count": 9,
   "id": "046841cd",
   "metadata": {},
   "outputs": [
    {
     "name": "stdout",
     "output_type": "stream",
     "text": [
      "\n",
      " Deleting particular row \n",
      "          Emp  ID\n",
      "0    Dharsan  80\n",
      "1     Sudeep  90\n",
      "3       Yash  56\n",
      "4  Keerthana  89\n"
     ]
    }
   ],
   "source": [
    "print('\\n Deleting particular row \\n',res.drop(2))"
   ]
  },
  {
   "cell_type": "code",
   "execution_count": null,
   "id": "a2a96658",
   "metadata": {},
   "outputs": [],
   "source": []
  },
  {
   "cell_type": "code",
   "execution_count": 10,
   "id": "e8314746",
   "metadata": {},
   "outputs": [
    {
     "name": "stdout",
     "output_type": "stream",
     "text": [
      "DataFrame.apply function \n",
      "\n",
      "\n",
      " Original DataFrame \n",
      "    S  R\n",
      "0  3  9\n",
      "1  3  9\n",
      "2  3  9\n",
      "3  3  9\n",
      "\n",
      " Squareroot of DataFrame \n",
      "           S    R\n",
      "0  1.732051  3.0\n",
      "1  1.732051  3.0\n",
      "2  1.732051  3.0\n",
      "3  1.732051  3.0\n",
      "\n",
      " Sum of each column \n",
      " S    12\n",
      "R    36\n",
      "dtype: int64\n",
      "\n",
      " Sum of each row \n",
      " 0    12\n",
      "1    12\n",
      "2    12\n",
      "3    12\n",
      "dtype: int64\n"
     ]
    }
   ],
   "source": [
    "import pandas as pd\n",
    "import numpy as np\n",
    "print(\"DataFrame.apply function \\n\")\n",
    "info=pd.DataFrame([[3,9]]*4,columns=['S','R'])\n",
    "print(\"\\n Original DataFrame \\n\",info)\n",
    "print(\"\\n Squareroot of DataFrame \\n\",info.apply(np.sqrt))\n",
    "print(\"\\n Sum of each column \\n\",info.apply(np.sum,axis=0))\n",
    "print(\"\\n Sum of each row \\n\",info.apply(np.sum,axis=1))"
   ]
  },
  {
   "cell_type": "code",
   "execution_count": 11,
   "id": "8f90bb19",
   "metadata": {},
   "outputs": [
    {
     "name": "stdout",
     "output_type": "stream",
     "text": [
      "\n",
      " Original DataFrame \n",
      "    X  Y  Z\n",
      "0  2  4  6\n",
      "1  1  3  5\n",
      "2  5  8  7\n",
      "\n",
      " Minimum and Maximun of each column \n",
      "\n",
      "     X  Y  Z\n",
      "min  1  3  5\n",
      "max  5  8  7\n"
     ]
    }
   ],
   "source": [
    "info=pd.DataFrame([[2,4,6],[1,3,5],[5,8,7]],columns=['X','Y','Z'])\n",
    "print(\"\\n Original DataFrame \\n\",info)\n",
    "print(\"\\n Minimum and Maximun of each column \\n\")\n",
    "print(info.agg(['min','max']))"
   ]
  },
  {
   "cell_type": "code",
   "execution_count": 12,
   "id": "a9d79da8",
   "metadata": {},
   "outputs": [
    {
     "name": "stdout",
     "output_type": "stream",
     "text": [
      "\n",
      " DataFrame.Assign function: \n",
      "\n",
      "\n",
      " Original DataFrame: \n",
      "         0   1\n",
      "0  Vishak  88\n",
      "1   Vicky  70\n",
      "\n",
      " Adding a new column: \n",
      "         0   1  Age\n",
      "0  Vishak  88   20\n",
      "1   Vicky  70   18\n",
      "\n",
      " After adding a new column \n",
      "         0   1  Age   Sex\n",
      "0  Vishak  88   20  Male\n",
      "1   Vicky  70   18  Male\n"
     ]
    }
   ],
   "source": [
    "print(\"\\n DataFrame.Assign function: \\n\")\n",
    "d2=pd.DataFrame([['Vishak',88],['Vicky',70]])\n",
    "columns=(['Emp','ID'])\n",
    "print(\"\\n Original DataFrame: \\n\",d2)\n",
    "d2['Age']=[20,18]\n",
    "print(\"\\n Adding a new column: \\n\",d2)\n",
    "d=d2.assign(Sex=['Male','Male'])\n",
    "print(\"\\n After adding a new column \\n\",d)"
   ]
  },
  {
   "cell_type": "code",
   "execution_count": 13,
   "id": "9f76fd06",
   "metadata": {
    "scrolled": true
   },
   "outputs": [
    {
     "name": "stdout",
     "output_type": "stream",
     "text": [
      "\n",
      " DataFrame sort function \n",
      "\n",
      "          A         B\n",
      "3 -1.443574 -1.000666\n",
      "2  0.480926  1.872499\n",
      "0 -1.040489 -0.261402\n",
      "4 -0.890629 -0.082412\n",
      "1 -1.081347 -0.348605\n",
      "\n",
      " Sort index \n",
      "           A         B\n",
      "0 -1.040489 -0.261402\n",
      "1 -1.081347 -0.348605\n",
      "2  0.480926  1.872499\n",
      "3 -1.443574 -1.000666\n",
      "4 -0.890629 -0.082412\n",
      "\n",
      " Sort values \n",
      "           A         B\n",
      "3 -1.443574 -1.000666\n",
      "1 -1.081347 -0.348605\n",
      "0 -1.040489 -0.261402\n",
      "4 -0.890629 -0.082412\n",
      "2  0.480926  1.872499\n"
     ]
    }
   ],
   "source": [
    "print(\"\\n DataFrame sort function \\n\")\n",
    "info=pd.DataFrame(np.random.randn(5,2),index=[3,2,0,4,1],columns=['A','B'])\n",
    "print(info)\n",
    "info2=info.sort_index()\n",
    "print(\"\\n Sort index \\n\",info2)\n",
    "info3=info.sort_values(by='A')\n",
    "print(\"\\n Sort values \\n\",info3)"
   ]
  },
  {
   "cell_type": "code",
   "execution_count": 14,
   "id": "d6c6d6a2",
   "metadata": {
    "scrolled": true
   },
   "outputs": [
    {
     "name": "stdout",
     "output_type": "stream",
     "text": [
      "\n",
      " DataFrame Merge function \n",
      "\n",
      "   Id  Name   Sub\n",
      "0   1   Sai  Sub1\n",
      "1   2  Ravi  Sub2\n",
      "2   3   Poo  Sub3\n",
      "3   4  Yash  Sub4\n",
      "   Id     Name   Sub\n",
      "0   1      Sri  Sub1\n",
      "1   2      Ram  Sub4\n",
      "2   3  Poojith  Sub3\n",
      "3   4  Yashika  Sub2\n",
      "   Id Name_x Sub_x   Name_y Sub_y\n",
      "0   1    Sai  Sub1      Sri  Sub1\n",
      "1   2   Ravi  Sub2      Ram  Sub4\n",
      "2   3    Poo  Sub3  Poojith  Sub3\n",
      "3   4   Yash  Sub4  Yashika  Sub2\n"
     ]
    }
   ],
   "source": [
    "print(\"\\n DataFrame Merge function \\n\")\n",
    "left=pd.DataFrame({'Id':[1,2,3,4],'Name':['Sai','Ravi','Poo','Yash'],'Sub':['Sub1','Sub2','Sub3','Sub4']})\n",
    "right=pd.DataFrame({'Id':[1,2,3,4],'Name':['Sri','Ram','Poojith','Yashika'],'Sub':['Sub1','Sub4','Sub3','Sub2']})\n",
    "print(left)\n",
    "print(right)\n",
    "print(pd.merge(left,right,on='Id'))"
   ]
  },
  {
   "cell_type": "code",
   "execution_count": 15,
   "id": "447a2716",
   "metadata": {},
   "outputs": [
    {
     "name": "stdout",
     "output_type": "stream",
     "text": [
      "Series from array\n",
      "0    s\n",
      "1    a\n",
      "2    i\n",
      "3    r\n",
      "4    b\n",
      "5    l\n",
      "6    i\n",
      "dtype: object\n"
     ]
    }
   ],
   "source": [
    "import pandas as pd\n",
    "import numpy as np\n",
    "arr=np.array(['s','a','i','r','b','l','i'])\n",
    "a=pd.Series(arr)\n",
    "print(\"Series from array\")\n",
    "print(a)"
   ]
  },
  {
   "cell_type": "code",
   "execution_count": 16,
   "id": "b41cf9fa",
   "metadata": {},
   "outputs": [
    {
     "name": "stdout",
     "output_type": "stream",
     "text": [
      "\n",
      " series from dictionary \n",
      "\n",
      "a    0\n",
      "b    1\n",
      "c    2\n",
      "dtype: int64\n"
     ]
    }
   ],
   "source": [
    "arr={'a':0,'b':1,'c':2}\n",
    "b=pd.Series(arr)\n",
    "print(\"\\n series from dictionary \\n\")\n",
    "print(b)"
   ]
  },
  {
   "cell_type": "code",
   "execution_count": 17,
   "id": "490bc63b",
   "metadata": {},
   "outputs": [
    {
     "name": "stdout",
     "output_type": "stream",
     "text": [
      "\n",
      " Series using sclar \n",
      "\n",
      "0    4\n",
      "1    4\n",
      "2    4\n",
      "3    4\n",
      "dtype: int64\n"
     ]
    }
   ],
   "source": [
    "x=pd.Series(4,index=[0,1,2,3])\n",
    "print(\"\\n Series using sclar \\n\")\n",
    "print(x)"
   ]
  },
  {
   "cell_type": "code",
   "execution_count": 18,
   "id": "85227a1b",
   "metadata": {},
   "outputs": [
    {
     "name": "stdout",
     "output_type": "stream",
     "text": [
      "\n",
      " a.series \n",
      " 0    s\n",
      "1    a\n",
      "2    i\n",
      "3    r\n",
      "4    b\n",
      "5    l\n",
      "6    i\n",
      "dtype: object\n",
      "\n",
      " index \n",
      " RangeIndex(start=0, stop=7, step=1)\n",
      "\n",
      " values \n",
      " ['s' 'a' 'i' 'r' 'b' 'l' 'i']\n",
      "\n",
      " shape \n",
      " (7,)\n",
      "\n",
      " Dimension \n",
      " 1\n",
      "\n",
      " Size \n",
      " 7\n"
     ]
    }
   ],
   "source": [
    "print(\"\\n a.series \\n\",a)\n",
    "print(\"\\n index \\n\",a.index)\n",
    "print(\"\\n values \\n\",a.values)\n",
    "print(\"\\n shape \\n\",a.shape)\n",
    "print(\"\\n Dimension \\n\",a.ndim)\n",
    "print(\"\\n Size \\n\",a.size)"
   ]
  },
  {
   "cell_type": "code",
   "execution_count": null,
   "id": "65b7bd55",
   "metadata": {},
   "outputs": [],
   "source": []
  }
 ],
 "metadata": {
  "kernelspec": {
   "display_name": "Python 3 (ipykernel)",
   "language": "python",
   "name": "python3"
  },
  "language_info": {
   "codemirror_mode": {
    "name": "ipython",
    "version": 3
   },
   "file_extension": ".py",
   "mimetype": "text/x-python",
   "name": "python",
   "nbconvert_exporter": "python",
   "pygments_lexer": "ipython3",
   "version": "3.10.9"
  }
 },
 "nbformat": 4,
 "nbformat_minor": 5
}
