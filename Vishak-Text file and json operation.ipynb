{
 "cells": [
  {
   "cell_type": "code",
   "execution_count": 1,
   "id": "ba7879d3",
   "metadata": {},
   "outputs": [],
   "source": [
    "f=open(\"/Users/student/Downloads/Vishak001.txt\",\"w\")\n",
    "f.write(\"Sai \\n\")\n",
    "f.write(\"Raj \\n\")\n",
    "f.write(\"John \\n\")\n",
    "f.close()"
   ]
  },
  {
   "cell_type": "code",
   "execution_count": 2,
   "id": "bedc605e",
   "metadata": {},
   "outputs": [
    {
     "name": "stdout",
     "output_type": "stream",
     "text": [
      "Sai \n",
      "\n",
      "Raj \n",
      "\n",
      "John \n",
      "\n"
     ]
    }
   ],
   "source": [
    "a=open(\"/Users/student/Downloads/Vishak001.txt\",\"r\")\n",
    "print(a.readline())\n",
    "print(a.readline())\n",
    "print(a.readline())\n",
    "a.close()"
   ]
  },
  {
   "cell_type": "code",
   "execution_count": 3,
   "id": "17acfbad",
   "metadata": {},
   "outputs": [
    {
     "name": "stdout",
     "output_type": "stream",
     "text": [
      "Sai \n",
      "Raj \n",
      "John \n",
      "Ram \n",
      "Kumar \n",
      "\n"
     ]
    }
   ],
   "source": [
    "b=open(\"/Users/student/Downloads/Vishak001.txt\",\"a\")\n",
    "b.write(\"Ram \\n\")\n",
    "b.write(\"Kumar \\n\")\n",
    "b.close()\n",
    "c=open(\"/Users/student/Downloads/Vishak001.txt\",\"r\")\n",
    "print(c.read())\n",
    "c.close()"
   ]
  },
  {
   "cell_type": "code",
   "execution_count": 4,
   "id": "6e71a43a",
   "metadata": {},
   "outputs": [
    {
     "name": "stdout",
     "output_type": "stream",
     "text": [
      "Sai \n",
      "\n"
     ]
    }
   ],
   "source": [
    "with open(\"/Users/student/Downloads/Vishak001.txt\",\"r\")as file:\n",
    "    lines=file.readline()\n",
    "    print(lines)"
   ]
  },
  {
   "cell_type": "code",
   "execution_count": 5,
   "id": "500eba1d",
   "metadata": {
    "scrolled": true
   },
   "outputs": [
    {
     "name": "stdout",
     "output_type": "stream",
     "text": [
      "London\n"
     ]
    }
   ],
   "source": [
    "import json\n",
    "x='{\"Name\":\"Raj\",\"Age\":\"20\",\"City\":\"London\"}'\n",
    "y=json.loads(x)\n",
    "print(y[\"City\"])"
   ]
  },
  {
   "cell_type": "code",
   "execution_count": 6,
   "id": "dec87362",
   "metadata": {},
   "outputs": [
    {
     "name": "stdout",
     "output_type": "stream",
     "text": [
      "\"{\\\"Name\\\":\\\"Raj\\\",\\\"Age\\\":\\\"20\\\",\\\"City\\\":\\\"London\\\"}\"\n"
     ]
    }
   ],
   "source": [
    "x='{\"Name\":\"Raj\",\"Age\":\"20\",\"City\":\"London\"}'\n",
    "y=json.dumps(x)\n",
    "print(y)"
   ]
  },
  {
   "cell_type": "code",
   "execution_count": null,
   "id": "4615c883",
   "metadata": {},
   "outputs": [],
   "source": []
  }
 ],
 "metadata": {
  "kernelspec": {
   "display_name": "Python 3 (ipykernel)",
   "language": "python",
   "name": "python3"
  },
  "language_info": {
   "codemirror_mode": {
    "name": "ipython",
    "version": 3
   },
   "file_extension": ".py",
   "mimetype": "text/x-python",
   "name": "python",
   "nbconvert_exporter": "python",
   "pygments_lexer": "ipython3",
   "version": "3.10.9"
  }
 },
 "nbformat": 4,
 "nbformat_minor": 5
}
